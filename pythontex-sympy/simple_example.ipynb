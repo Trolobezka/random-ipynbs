{
 "cells": [
  {
   "cell_type": "code",
   "execution_count": 1,
   "metadata": {},
   "outputs": [],
   "source": [
    "import sympy as smp\n",
    "UE = smp.UnevaluatedExpr"
   ]
  },
  {
   "cell_type": "code",
   "execution_count": 2,
   "metadata": {},
   "outputs": [],
   "source": [
    "# Definice proměnných\n",
    "a, b, c, d = smp.symbols(r\"a_{1}, b^{\\prime}, \\bar{c}, \\ddot{d}\")"
   ]
  },
  {
   "cell_type": "code",
   "execution_count": 3,
   "metadata": {},
   "outputs": [
    {
     "data": {
      "text/latex": [
       "$\\displaystyle \\left(a_{1} + b^{\\prime}\\right)^{\\bar{c} - \\ddot{d}}$"
      ],
      "text/plain": [
       "(a_{1} + b^{\\prime})**(\\bar{c} - \\ddot{d})"
      ]
     },
     "execution_count": 3,
     "metadata": {},
     "output_type": "execute_result"
    }
   ],
   "source": [
    "# Vytvoření rovnice\n",
    "# Problém se sympy je, že nedodržuje pořadí, ve kterém vkládáme proměnné do rovnice\n",
    "# Jde se tomu částěčně bránit pomocí UnevaluatedExpr\n",
    "expr = (a + b)**(c - d)\n",
    "expr"
   ]
  },
  {
   "cell_type": "code",
   "execution_count": 4,
   "metadata": {},
   "outputs": [],
   "source": [
    "# Definice funkčních hodnot pro proměnné\n",
    "# Musí být list tuplů [(proměnná, UE(hodnota)), ...]\n",
    "# Pro lepší přístup k hodnotám by šlo definovat jako dict[] a poté ho převádět do list[tuple[]] pro subs() funkci\n",
    "subs = [\n",
    "    (a, UE(10)),\n",
    "    (b, UE(5.5)),\n",
    "    (c, UE(smp.sqrt(3))),\n",
    "    (d, UE(smp.pi)),\n",
    "]"
   ]
  },
  {
   "cell_type": "code",
   "execution_count": 5,
   "metadata": {},
   "outputs": [
    {
     "data": {
      "text/latex": [
       "$\\displaystyle \\left(5.5 + 10\\right)^{\\sqrt{3} - \\pi}$"
      ],
      "text/plain": [
       "(5.5 + 10)**(sqrt(3) - pi)"
      ]
     },
     "execution_count": 5,
     "metadata": {},
     "output_type": "execute_result"
    }
   ],
   "source": [
    "# Nahrazení proměnných jejich funkčních hodnotami\n",
    "# sympy nemůže provést automatické zjednoduššení, protože čísla jsou obalena v UnevaluatedExpr\n",
    "expr = expr.subs(subs)\n",
    "expr"
   ]
  },
  {
   "cell_type": "code",
   "execution_count": 6,
   "metadata": {},
   "outputs": [
    {
     "data": {
      "text/latex": [
       "$\\displaystyle 15.5^{- \\pi + \\sqrt{3}}$"
      ],
      "text/plain": [
       "15.5**(-pi + sqrt(3))"
      ]
     },
     "execution_count": 6,
     "metadata": {},
     "output_type": "execute_result"
    }
   ],
   "source": [
    "# Pokyn pro sympy ke zjednoduššení čísel v UnevaluatedExpr\n",
    "expr = expr.doit()\n",
    "expr"
   ]
  },
  {
   "cell_type": "code",
   "execution_count": 7,
   "metadata": {},
   "outputs": [
    {
     "data": {
      "text/latex": [
       "$\\displaystyle 0.0209979869165251$"
      ],
      "text/plain": [
       "0.0209979869165251"
      ]
     },
     "execution_count": 7,
     "metadata": {},
     "output_type": "execute_result"
    }
   ],
   "source": [
    "# Výpočet na float\n",
    "expr = expr.evalf()\n",
    "expr"
   ]
  }
 ],
 "metadata": {
  "kernelspec": {
   "display_name": "Python 3.10.5 64-bit",
   "language": "python",
   "name": "python3"
  },
  "language_info": {
   "codemirror_mode": {
    "name": "ipython",
    "version": 3
   },
   "file_extension": ".py",
   "mimetype": "text/x-python",
   "name": "python",
   "nbconvert_exporter": "python",
   "pygments_lexer": "ipython3",
   "version": "3.10.5"
  },
  "orig_nbformat": 4,
  "vscode": {
   "interpreter": {
    "hash": "369f2c481f4da34e4445cda3fffd2e751bd1c4d706f27375911949ba6bb62e1c"
   }
  }
 },
 "nbformat": 4,
 "nbformat_minor": 2
}
