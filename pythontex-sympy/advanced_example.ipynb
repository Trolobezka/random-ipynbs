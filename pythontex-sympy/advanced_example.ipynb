{
 "cells": [
  {
   "cell_type": "code",
   "execution_count": 1,
   "metadata": {},
   "outputs": [],
   "source": [
    "import sympy as smp\n",
    "from typing import List, Tuple, Any\n",
    "from IPython.display import display, Latex\n",
    "UE = smp.UnevaluatedExpr"
   ]
  },
  {
   "cell_type": "code",
   "execution_count": 2,
   "metadata": {},
   "outputs": [],
   "source": [
    "# Pro zobrazování latexu v notebooku\n",
    "def display_latex(s: str) -> None:\n",
    "    display(Latex(\"$$\" + s + \"$$\"))"
   ]
  },
  {
   "cell_type": "code",
   "execution_count": 3,
   "metadata": {},
   "outputs": [],
   "source": [
    "# Vytvoří zápis ODV: Obecně, Dosazení, Výsledek\n",
    "def create_ODV(expr, subs: List[Tuple[Any, Any]], unit: str) -> str:\n",
    "    expr_O: str = smp.latex(expr)\n",
    "\n",
    "    expr = expr.subs(subs)\n",
    "    expr_D: str = smp.latex(expr)\n",
    "\n",
    "    expr = expr.doit()\n",
    "    expr_V_v1: str = smp.latex(expr)\n",
    "\n",
    "    expr = expr.evalf()\n",
    "    expr_V_v2: str = smp.latex(expr)\n",
    "\n",
    "    return fr\"{expr_O} = {expr_D} = {expr_V_v1} \\approx {expr_V_v2} \\, {unit}\""
   ]
  },
  {
   "cell_type": "code",
   "execution_count": 4,
   "metadata": {},
   "outputs": [],
   "source": [
    "# Definice proměnných\n",
    "a, b, c, d = smp.symbols(r\"a_{1}, b^{\\prime}, \\bar{c}, \\ddot{d}\")"
   ]
  },
  {
   "cell_type": "code",
   "execution_count": 5,
   "metadata": {},
   "outputs": [
    {
     "data": {
      "text/latex": [
       "$\\displaystyle \\left(a_{1} + b^{\\prime}\\right)^{\\bar{c} - \\ddot{d}}$"
      ],
      "text/plain": [
       "(a_{1} + b^{\\prime})**(\\bar{c} - \\ddot{d})"
      ]
     },
     "execution_count": 5,
     "metadata": {},
     "output_type": "execute_result"
    }
   ],
   "source": [
    "# Vytvoření rovnice\n",
    "expr = (a + b)**(c - d)\n",
    "expr"
   ]
  },
  {
   "cell_type": "code",
   "execution_count": 6,
   "metadata": {},
   "outputs": [],
   "source": [
    "# Definice funkčních hodnot pro proměnné\n",
    "subs = [\n",
    "    (a, UE(10)),\n",
    "    (b, UE(5.5)),\n",
    "    (c, UE(smp.sqrt(3))),\n",
    "    (d, UE(smp.pi)),\n",
    "]"
   ]
  },
  {
   "cell_type": "code",
   "execution_count": 7,
   "metadata": {},
   "outputs": [
    {
     "data": {
      "text/latex": [
       "$$\\left(a_{1} + b^{\\prime}\\right)^{\\bar{c} - \\ddot{d}} = \\left(5.5 + 10\\right)^{\\sqrt{3} - \\pi} = 15.5^{- \\pi + \\sqrt{3}} \\approx 0.0209979869165251 \\, \\mathrm{MPa}$$"
      ],
      "text/plain": [
       "<IPython.core.display.Latex object>"
      ]
     },
     "metadata": {},
     "output_type": "display_data"
    }
   ],
   "source": [
    "# Vytvoření zápisu výpočtu\n",
    "odv = create_ODV(expr, subs, r\"\\mathrm{MPa}\")\n",
    "display_latex(odv)"
   ]
  },
  {
   "cell_type": "code",
   "execution_count": 8,
   "metadata": {},
   "outputs": [],
   "source": [
    "# Definice nových funkčních hodnot pro proměnné\n",
    "subs = [\n",
    "    (a, UE(2)),\n",
    "    (b, UE(3)),\n",
    "    (c, UE(4)),\n",
    "    (d, UE(5)),\n",
    "]"
   ]
  },
  {
   "cell_type": "code",
   "execution_count": 9,
   "metadata": {},
   "outputs": [
    {
     "data": {
      "text/latex": [
       "$$\\left(a_{1} + b^{\\prime}\\right)^{\\bar{c} - \\ddot{d}} = \\left(2 + 3\\right)^{4 - 5} = \\frac{1}{5} \\approx 0.2 \\, \\mathrm{MPa}$$"
      ],
      "text/plain": [
       "<IPython.core.display.Latex object>"
      ]
     },
     "metadata": {},
     "output_type": "display_data"
    }
   ],
   "source": [
    "# Vytvoření zápisu výpočtu pro nové hodnoty\n",
    "odv = create_ODV(expr, subs, r\"\\mathrm{MPa}\")\n",
    "display_latex(odv)"
   ]
  },
  {
   "cell_type": "code",
   "execution_count": 10,
   "metadata": {},
   "outputs": [],
   "source": [
    "# Co zlepšit a nad čím přemýšlet:\n",
    "# 1. Pokud z výpočtu vyjde rovnou float číslo, chceme ho zobrazovat dvakrát?\n",
    "# 2. Pokud z výpočtu vyjde pěkný zlomek, chceme ho zobrazit jako zlomek nebo jako float?\n",
    "# 3. Pokud z výpočtu vyjde velký/malý float, jak ho zobrazit (tečka nebo čárka, 10e-5 nebo 10*10^-5 nebo 0.0001)?\n",
    "# 4. Na kolik desetinných míst zaokrouhlovat float výsledky?\n",
    "# 5. Jak dostat z funkce číselný výsledek a uložit ho do nové proměnné (symbolické i funkční hodnoty),\n",
    "#    kterou budeme moc využít v další rovnici?"
   ]
  }
 ],
 "metadata": {
  "kernelspec": {
   "display_name": "Python 3.10.5 64-bit",
   "language": "python",
   "name": "python3"
  },
  "language_info": {
   "codemirror_mode": {
    "name": "ipython",
    "version": 3
   },
   "file_extension": ".py",
   "mimetype": "text/x-python",
   "name": "python",
   "nbconvert_exporter": "python",
   "pygments_lexer": "ipython3",
   "version": "3.10.5"
  },
  "orig_nbformat": 4,
  "vscode": {
   "interpreter": {
    "hash": "369f2c481f4da34e4445cda3fffd2e751bd1c4d706f27375911949ba6bb62e1c"
   }
  }
 },
 "nbformat": 4,
 "nbformat_minor": 2
}
