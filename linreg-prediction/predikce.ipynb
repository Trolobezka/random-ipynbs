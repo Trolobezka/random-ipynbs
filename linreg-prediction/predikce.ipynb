{
 "cells": [
  {
   "attachments": {},
   "cell_type": "markdown",
   "metadata": {},
   "source": [
    "Instalace potřebných modulů: ipython, numpy, pandas, sklearn"
   ]
  },
  {
   "cell_type": "code",
   "execution_count": 1,
   "metadata": {},
   "outputs": [
    {
     "name": "stdout",
     "output_type": "stream",
     "text": [
      "Requirement already satisfied: ipython in c:\\python310\\lib\\site-packages (8.2.0)\n",
      "Requirement already satisfied: numpy in c:\\python310\\lib\\site-packages (1.22.1)\n",
      "Requirement already satisfied: pandas in c:\\python310\\lib\\site-packages (1.4.2)\n",
      "Requirement already satisfied: scikit-learn in c:\\python310\\lib\\site-packages (1.0.2)\n",
      "Requirement already satisfied: pygments>=2.4.0 in c:\\python310\\lib\\site-packages (from ipython) (2.13.0)\n",
      "Requirement already satisfied: backcall in c:\\python310\\lib\\site-packages (from ipython) (0.2.0)\n",
      "Requirement already satisfied: decorator in c:\\python310\\lib\\site-packages (from ipython) (5.1.1)\n",
      "Requirement already satisfied: setuptools>=18.5 in c:\\python310\\lib\\site-packages (from ipython) (58.1.0)\n",
      "Requirement already satisfied: jedi>=0.16 in c:\\python310\\lib\\site-packages (from ipython) (0.18.1)\n",
      "Requirement already satisfied: colorama in c:\\python310\\lib\\site-packages (from ipython) (0.4.4)\n",
      "Requirement already satisfied: stack-data in c:\\python310\\lib\\site-packages (from ipython) (0.2.0)\n",
      "Requirement already satisfied: prompt-toolkit!=3.0.0,!=3.0.1,<3.1.0,>=2.0.0 in c:\\python310\\lib\\site-packages (from ipython) (3.0.29)\n",
      "Requirement already satisfied: matplotlib-inline in c:\\python310\\lib\\site-packages (from ipython) (0.1.3)\n",
      "Requirement already satisfied: traitlets>=5 in c:\\python310\\lib\\site-packages (from ipython) (5.1.1)\n",
      "Requirement already satisfied: pickleshare in c:\\python310\\lib\\site-packages (from ipython) (0.7.5)\n",
      "Requirement already satisfied: pytz>=2020.1 in c:\\python310\\lib\\site-packages (from pandas) (2021.3)\n",
      "Requirement already satisfied: python-dateutil>=2.8.1 in c:\\python310\\lib\\site-packages (from pandas) (2.8.2)\n",
      "Requirement already satisfied: joblib>=0.11 in c:\\python310\\lib\\site-packages (from scikit-learn) (1.1.0)\n",
      "Requirement already satisfied: scipy>=1.1.0 in c:\\python310\\lib\\site-packages (from scikit-learn) (1.7.3)\n",
      "Requirement already satisfied: threadpoolctl>=2.0.0 in c:\\python310\\lib\\site-packages (from scikit-learn) (3.0.0)\n",
      "Requirement already satisfied: parso<0.9.0,>=0.8.0 in c:\\python310\\lib\\site-packages (from jedi>=0.16->ipython) (0.8.3)\n",
      "Requirement already satisfied: wcwidth in c:\\python310\\lib\\site-packages (from prompt-toolkit!=3.0.0,!=3.0.1,<3.1.0,>=2.0.0->ipython) (0.2.5)\n",
      "Requirement already satisfied: six>=1.5 in c:\\python310\\lib\\site-packages (from python-dateutil>=2.8.1->pandas) (1.16.0)\n",
      "Requirement already satisfied: asttokens in c:\\python310\\lib\\site-packages (from stack-data->ipython) (2.0.5)\n",
      "Requirement already satisfied: pure-eval in c:\\python310\\lib\\site-packages (from stack-data->ipython) (0.2.2)\n",
      "Requirement already satisfied: executing in c:\\python310\\lib\\site-packages (from stack-data->ipython) (0.8.3)\n"
     ]
    }
   ],
   "source": [
    "!pip install ipython numpy pandas scikit-learn"
   ]
  },
  {
   "attachments": {},
   "cell_type": "markdown",
   "metadata": {},
   "source": [
    "Načtení potřebných modulů"
   ]
  },
  {
   "cell_type": "code",
   "execution_count": 2,
   "metadata": {},
   "outputs": [],
   "source": [
    "import numpy as np\n",
    "import pandas as pd\n",
    "from sklearn import linear_model\n",
    "from IPython.display import display"
   ]
  },
  {
   "attachments": {},
   "cell_type": "markdown",
   "metadata": {},
   "source": [
    "Načtení a zpracování dat"
   ]
  },
  {
   "cell_type": "code",
   "execution_count": 3,
   "metadata": {},
   "outputs": [
    {
     "data": {
      "text/html": [
       "<div>\n",
       "<style scoped>\n",
       "    .dataframe tbody tr th:only-of-type {\n",
       "        vertical-align: middle;\n",
       "    }\n",
       "\n",
       "    .dataframe tbody tr th {\n",
       "        vertical-align: top;\n",
       "    }\n",
       "\n",
       "    .dataframe thead th {\n",
       "        text-align: right;\n",
       "    }\n",
       "</style>\n",
       "<table border=\"1\" class=\"dataframe\">\n",
       "  <thead>\n",
       "    <tr style=\"text-align: right;\">\n",
       "      <th></th>\n",
       "      <th>Projekt</th>\n",
       "      <th>m2</th>\n",
       "      <th>vzdálenost</th>\n",
       "      <th>počet modulů</th>\n",
       "      <th>počet vývozních dní</th>\n",
       "      <th>průměrná váha modulu</th>\n",
       "      <th>průměrná výška modulu</th>\n",
       "      <th>průměrná šířka modulu</th>\n",
       "      <th>průměrná délka modulu</th>\n",
       "      <th>cena kalkulovaná Euro</th>\n",
       "      <th>cena skutečná</th>\n",
       "    </tr>\n",
       "  </thead>\n",
       "  <tbody>\n",
       "    <tr>\n",
       "      <th>0</th>\n",
       "      <td>Dueren</td>\n",
       "      <td>1500</td>\n",
       "      <td>600</td>\n",
       "      <td>43</td>\n",
       "      <td>3</td>\n",
       "      <td>20</td>\n",
       "      <td>3</td>\n",
       "      <td>3.5</td>\n",
       "      <td>14</td>\n",
       "      <td>150000</td>\n",
       "      <td>200000.0</td>\n",
       "    </tr>\n",
       "    <tr>\n",
       "      <th>1</th>\n",
       "      <td>Pirna II</td>\n",
       "      <td>1200</td>\n",
       "      <td>250</td>\n",
       "      <td>22</td>\n",
       "      <td>2</td>\n",
       "      <td>18</td>\n",
       "      <td>3</td>\n",
       "      <td>4.0</td>\n",
       "      <td>16</td>\n",
       "      <td>170000</td>\n",
       "      <td>155000.0</td>\n",
       "    </tr>\n",
       "    <tr>\n",
       "      <th>2</th>\n",
       "      <td>Ronnenberg</td>\n",
       "      <td>800</td>\n",
       "      <td>550</td>\n",
       "      <td>11</td>\n",
       "      <td>1</td>\n",
       "      <td>25</td>\n",
       "      <td>3</td>\n",
       "      <td>4.0</td>\n",
       "      <td>16</td>\n",
       "      <td>170000</td>\n",
       "      <td>190000.0</td>\n",
       "    </tr>\n",
       "    <tr>\n",
       "      <th>3</th>\n",
       "      <td>Predikce 1</td>\n",
       "      <td>820</td>\n",
       "      <td>520</td>\n",
       "      <td>8</td>\n",
       "      <td>2</td>\n",
       "      <td>25</td>\n",
       "      <td>4</td>\n",
       "      <td>4.5</td>\n",
       "      <td>18</td>\n",
       "      <td>160000</td>\n",
       "      <td>NaN</td>\n",
       "    </tr>\n",
       "  </tbody>\n",
       "</table>\n",
       "</div>"
      ],
      "text/plain": [
       "      Projekt    m2  vzdálenost  počet modulů  počet vývozních dní  \\\n",
       "0      Dueren  1500         600            43                    3   \n",
       "1    Pirna II  1200         250            22                    2   \n",
       "2  Ronnenberg   800         550            11                    1   \n",
       "3  Predikce 1   820         520             8                    2   \n",
       "\n",
       "   průměrná váha modulu  průměrná výška modulu  průměrná šířka modulu  \\\n",
       "0                    20                      3                    3.5   \n",
       "1                    18                      3                    4.0   \n",
       "2                    25                      3                    4.0   \n",
       "3                    25                      4                    4.5   \n",
       "\n",
       "   průměrná délka modulu  cena kalkulovaná Euro  cena skutečná  \n",
       "0                     14                 150000       200000.0  \n",
       "1                     16                 170000       155000.0  \n",
       "2                     16                 170000       190000.0  \n",
       "3                     18                 160000            NaN  "
      ]
     },
     "metadata": {},
     "output_type": "display_data"
    }
   ],
   "source": [
    "# Načte data ze soubor\n",
    "try:\n",
    "    # Nejdříve zkusí excel soubor\n",
    "    DATA = pd.read_excel(\"data.xlsx\")\n",
    "except:\n",
    "    # Poté zkusí csv soubor\n",
    "    # Pokud hlásí chybu, je možné nastavit vlastní:\n",
    "    # > delimiter ... oddělovač dat (čárka, středník)\n",
    "    # > decimal ... oddělovač desetinných míst (čírka, tečka)\n",
    "    DATA = pd.read_csv(\"data.csv\", delimiter=\",\", decimal=\",\")\n",
    "display(DATA)\n",
    "# Odstraní první sloupeček\n",
    "data = DATA.drop(DATA.columns[0], axis=1, inplace=False)\n",
    "# Získá indexy řídků, kde chybí číslo v posledním sloupečku\n",
    "indexy_pro_predikci = data.index[data[data.columns[-1]].isnull().values].tolist()\n",
    "# Získá řádky, které se mohou použít pro regresi\n",
    "data_pro_predikci = data.loc[indexy_pro_predikci].drop(data.columns[-1], axis=1, inplace=False)\n",
    "data = data.loc[data.index.difference(indexy_pro_predikci)]\n",
    "# Převedení dat do číselných polí\n",
    "data_numbers = data.to_numpy()\n",
    "vstup_pro_regresi = data_numbers[:,:-1]\n",
    "vystup_pro_regresi = data_numbers[:,-1]\n",
    "vstup_pro_predikci = data_pro_predikci.to_numpy()"
   ]
  },
  {
   "attachments": {},
   "cell_type": "markdown",
   "metadata": {},
   "source": [
    "Vytvoření predikčního modelu pomocí lineární regrese\n",
    "\n",
    "https://scikit-learn.org/stable/tutorial/statistical_inference/supervised_learning.html#linear-model-from-regression-to-sparsity\n",
    "\n",
    "https://scikit-learn.org/stable/modules/generated/sklearn.linear_model.LinearRegression.html"
   ]
  },
  {
   "cell_type": "code",
   "execution_count": 4,
   "metadata": {},
   "outputs": [
    {
     "name": "stdout",
     "output_type": "stream",
     "text": [
      "Lineární koeficienty: [-55.929259470886365, 42.01465674067706, -1.5365531924001918, -0.1397937086174281, 0.9796158024743624, 0.0, -5.888011957586796e-05, -0.00023552047830347183, -2.3552047830346226, 612012.7149728338]\n",
      "Počet vstupních sloupců: (2, 9)\n",
      "Průměrná chyba R2: 4.291633599421788e-20 (menší = lepší)\n",
      "Skóre modelu: 1.0 (lze predikovat? 0 = NE, 1 = ANO)\n"
     ]
    }
   ],
   "source": [
    "regrese = linear_model.LinearRegression()\n",
    "regrese.fit(vstup_pro_regresi, vystup_pro_regresi)\n",
    "\n",
    "# Výpis parametrů modelu\n",
    "print(\"Lineární koeficienty:\", [*regrese.coef_, regrese.intercept_])\n",
    "print(\"Počet vstupních sloupců:\", (regrese.rank_, regrese.n_features_in_))\n",
    "print(\n",
    "    \"Průměrná chyba R2:\",\n",
    "    np.mean((regrese.predict(vstup_pro_regresi) - vystup_pro_regresi)**2),\n",
    "    \"(menší = lepší)\"\n",
    ")\n",
    "print(\n",
    "    \"Skóre modelu:\",\n",
    "    regrese.score(vstup_pro_regresi, vystup_pro_regresi),\n",
    "    \"(lze predikovat? 0 = NE, 1 = ANO)\"\n",
    ")"
   ]
  },
  {
   "attachments": {},
   "cell_type": "markdown",
   "metadata": {},
   "source": [
    "Predikce"
   ]
  },
  {
   "cell_type": "code",
   "execution_count": 5,
   "metadata": {},
   "outputs": [],
   "source": [
    "vysledek_predikce = regrese.predict(vstup_pro_predikci)"
   ]
  },
  {
   "attachments": {},
   "cell_type": "markdown",
   "metadata": {},
   "source": [
    "Uložení predikovaných dat"
   ]
  },
  {
   "cell_type": "code",
   "execution_count": 6,
   "metadata": {},
   "outputs": [],
   "source": [
    "DATA.loc[indexy_pro_predikci, DATA.columns[-1]] = vysledek_predikce\n",
    "DATA.to_excel(\"data_new.xlsx\")"
   ]
  }
 ],
 "metadata": {
  "kernelspec": {
   "display_name": "Python 3",
   "language": "python",
   "name": "python3"
  },
  "language_info": {
   "codemirror_mode": {
    "name": "ipython",
    "version": 3
   },
   "file_extension": ".py",
   "mimetype": "text/x-python",
   "name": "python",
   "nbconvert_exporter": "python",
   "pygments_lexer": "ipython3",
   "version": "3.10.5"
  },
  "orig_nbformat": 4,
  "vscode": {
   "interpreter": {
    "hash": "369f2c481f4da34e4445cda3fffd2e751bd1c4d706f27375911949ba6bb62e1c"
   }
  }
 },
 "nbformat": 4,
 "nbformat_minor": 2
}
