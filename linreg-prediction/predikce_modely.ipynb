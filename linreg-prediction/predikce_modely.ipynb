{
 "cells": [
  {
   "attachments": {},
   "cell_type": "markdown",
   "metadata": {},
   "source": [
    "### Instalace potřebných modulů: ipython, numpy, pandas, sklearn"
   ]
  },
  {
   "cell_type": "code",
   "execution_count": 26,
   "metadata": {},
   "outputs": [],
   "source": [
    "!pip -q install ipython ipywidgets numpy pandas scikit-learn matplotlib"
   ]
  },
  {
   "attachments": {},
   "cell_type": "markdown",
   "metadata": {},
   "source": [
    "### Načtení potřebných modulů"
   ]
  },
  {
   "cell_type": "code",
   "execution_count": 27,
   "metadata": {},
   "outputs": [],
   "source": [
    "import numpy as np\n",
    "import pandas as pd\n",
    "from sklearn import linear_model, metrics\n",
    "from IPython.display import display\n",
    "import ipywidgets\n",
    "import matplotlib.pyplot as plt"
   ]
  },
  {
   "attachments": {},
   "cell_type": "markdown",
   "metadata": {},
   "source": [
    "### Načtení a zpracování dat"
   ]
  },
  {
   "cell_type": "code",
   "execution_count": 28,
   "metadata": {},
   "outputs": [
    {
     "data": {
      "text/html": [
       "<div>\n",
       "<style scoped>\n",
       "    .dataframe tbody tr th:only-of-type {\n",
       "        vertical-align: middle;\n",
       "    }\n",
       "\n",
       "    .dataframe tbody tr th {\n",
       "        vertical-align: top;\n",
       "    }\n",
       "\n",
       "    .dataframe thead th {\n",
       "        text-align: right;\n",
       "    }\n",
       "</style>\n",
       "<table border=\"1\" class=\"dataframe\">\n",
       "  <thead>\n",
       "    <tr style=\"text-align: right;\">\n",
       "      <th></th>\n",
       "      <th>Projekt</th>\n",
       "      <th>m2</th>\n",
       "      <th>vzdálenost</th>\n",
       "      <th>počet modulů</th>\n",
       "      <th>počet vývozních dní</th>\n",
       "      <th>průměrná váha modulu</th>\n",
       "      <th>průměrná výška modulu</th>\n",
       "      <th>průměrná šířka modulu</th>\n",
       "      <th>průměrná délka modulu</th>\n",
       "      <th>cena kalkulovaná Euro</th>\n",
       "      <th>cena skutečná</th>\n",
       "    </tr>\n",
       "  </thead>\n",
       "  <tbody>\n",
       "    <tr>\n",
       "      <th>0</th>\n",
       "      <td>Dueren</td>\n",
       "      <td>1500</td>\n",
       "      <td>600</td>\n",
       "      <td>43</td>\n",
       "      <td>3</td>\n",
       "      <td>20</td>\n",
       "      <td>3</td>\n",
       "      <td>3.5</td>\n",
       "      <td>14</td>\n",
       "      <td>150000</td>\n",
       "      <td>200000.0</td>\n",
       "    </tr>\n",
       "    <tr>\n",
       "      <th>1</th>\n",
       "      <td>Pirna II</td>\n",
       "      <td>1200</td>\n",
       "      <td>250</td>\n",
       "      <td>22</td>\n",
       "      <td>2</td>\n",
       "      <td>18</td>\n",
       "      <td>3</td>\n",
       "      <td>4.0</td>\n",
       "      <td>16</td>\n",
       "      <td>170000</td>\n",
       "      <td>155000.0</td>\n",
       "    </tr>\n",
       "    <tr>\n",
       "      <th>2</th>\n",
       "      <td>Ronnenberg</td>\n",
       "      <td>800</td>\n",
       "      <td>550</td>\n",
       "      <td>11</td>\n",
       "      <td>1</td>\n",
       "      <td>25</td>\n",
       "      <td>3</td>\n",
       "      <td>4.0</td>\n",
       "      <td>16</td>\n",
       "      <td>170000</td>\n",
       "      <td>190000.0</td>\n",
       "    </tr>\n",
       "    <tr>\n",
       "      <th>3</th>\n",
       "      <td>Ronnenberg</td>\n",
       "      <td>820</td>\n",
       "      <td>580</td>\n",
       "      <td>8</td>\n",
       "      <td>2</td>\n",
       "      <td>22</td>\n",
       "      <td>4</td>\n",
       "      <td>3.0</td>\n",
       "      <td>18</td>\n",
       "      <td>190000</td>\n",
       "      <td>NaN</td>\n",
       "    </tr>\n",
       "  </tbody>\n",
       "</table>\n",
       "</div>"
      ],
      "text/plain": [
       "      Projekt    m2  vzdálenost  počet modulů  počet vývozních dní  \\\n",
       "0      Dueren  1500         600            43                    3   \n",
       "1    Pirna II  1200         250            22                    2   \n",
       "2  Ronnenberg   800         550            11                    1   \n",
       "3  Ronnenberg   820         580             8                    2   \n",
       "\n",
       "   průměrná váha modulu  průměrná výška modulu  průměrná šířka modulu  \\\n",
       "0                    20                      3                    3.5   \n",
       "1                    18                      3                    4.0   \n",
       "2                    25                      3                    4.0   \n",
       "3                    22                      4                    3.0   \n",
       "\n",
       "   průměrná délka modulu  cena kalkulovaná Euro  cena skutečná  \n",
       "0                     14                 150000       200000.0  \n",
       "1                     16                 170000       155000.0  \n",
       "2                     16                 170000       190000.0  \n",
       "3                     18                 190000            NaN  "
      ]
     },
     "metadata": {},
     "output_type": "display_data"
    }
   ],
   "source": [
    "# Načte data ze soubor\n",
    "try:\n",
    "    # Nejdříve zkusí excel soubor\n",
    "    DATA = pd.read_excel(\"data.xlsx\")\n",
    "except:\n",
    "    # Poté zkusí csv soubor\n",
    "    # Pokud hlásí chybu, je možné nastavit vlastní:\n",
    "    # > delimiter ... oddělovač dat (čárka, středník)\n",
    "    # > decimal ... oddělovač desetinných míst (čírka, tečka)\n",
    "    DATA = pd.read_csv(\"data.csv\", delimiter=\",\", decimal=\",\")\n",
    "display(DATA)\n",
    "# Odstraní první sloupeček\n",
    "data = DATA.drop(DATA.columns[0], axis=1, inplace=False)\n",
    "# Získá indexy řídků, kde chybí číslo v posledním sloupečku\n",
    "indexy_pro_predikci = data.index[data[data.columns[-1]].isnull().values].tolist()\n",
    "# Získá řádky, které se mohou použít pro regresi\n",
    "data_pro_predikci = data.loc[indexy_pro_predikci].drop(data.columns[-1], axis=1, inplace=False)\n",
    "data = data.loc[data.index.difference(indexy_pro_predikci)]\n",
    "# Převedení dat do číselných polí\n",
    "data_numbers = data.to_numpy()\n",
    "vstup_pro_regresi = data_numbers[:,:-1]\n",
    "vystup_pro_regresi = data_numbers[:,-1]\n",
    "vstup_pro_predikci = data_pro_predikci.to_numpy()"
   ]
  },
  {
   "attachments": {},
   "cell_type": "markdown",
   "metadata": {},
   "source": [
    "### Výběr predikčního modelu\n",
    "\n",
    "LinearRegression - **obyčejná** lineární regrese\n",
    "\n",
    "Ridge - **vylepšená** lineární regrese, **sníží** vliv dimenzí, které by mohli rozhodit výsledek\n",
    "\n",
    "Lasso - **vylepšená** lineární regrese, **vynuluje** vliv dimenzí, které by mohli rozhodit výsledek"
   ]
  },
  {
   "cell_type": "code",
   "execution_count": 29,
   "metadata": {},
   "outputs": [
    {
     "data": {
      "application/vnd.jupyter.widget-view+json": {
       "model_id": "da46600aac7b4718b48aa5d3ad07a248",
       "version_major": 2,
       "version_minor": 0
      },
      "text/plain": [
       "RadioButtons(description='Model:', options=('LinearRegression', 'Ridge', 'Lasso'), value='LinearRegression')"
      ]
     },
     "metadata": {},
     "output_type": "display_data"
    }
   ],
   "source": [
    "if \"vyber_modelu\" not in globals():\n",
    "    # Vytvoří radio tlačítka pro výběr predikčního modelu\n",
    "    # Podmínka zabrání resetování výběru při novém spuštění\n",
    "    vyber_modelu = ipywidgets.RadioButtons(\n",
    "        options=[\"LinearRegression\", \"Ridge\", \"Lasso\"],\n",
    "        description=\"Model:\"\n",
    "    )\n",
    "display(vyber_modelu)"
   ]
  },
  {
   "attachments": {},
   "cell_type": "markdown",
   "metadata": {},
   "source": [
    "### Vytvoření predikčního modelu pomocí lineární regrese\n",
    "\n",
    "https://scikit-learn.org/stable/tutorial/statistical_inference/supervised_learning.html#linear-model-from-regression-to-sparsity\n",
    "\n",
    "https://scikit-learn.org/stable/modules/generated/sklearn.linear_model.LinearRegression.html"
   ]
  },
  {
   "cell_type": "code",
   "execution_count": 30,
   "metadata": {},
   "outputs": [
    {
     "data": {
      "text/plain": [
       "LinearRegression()"
      ]
     },
     "execution_count": 30,
     "metadata": {},
     "output_type": "execute_result"
    }
   ],
   "source": [
    "if vyber_modelu.value == \"LinearRegression\":\n",
    "    regrese = linear_model.LinearRegression()\n",
    "elif vyber_modelu.value == \"Ridge\":\n",
    "    regrese = linear_model.Ridge(alpha=0.1)\n",
    "elif vyber_modelu.value == \"Lasso\":\n",
    "    regrese = linear_model.Lasso()\n",
    "regrese.fit(vstup_pro_regresi, vystup_pro_regresi)"
   ]
  },
  {
   "attachments": {},
   "cell_type": "markdown",
   "metadata": {},
   "source": [
    "### Vypsání parametrů modelu\n",
    "\n",
    "https://en.wikipedia.org/wiki/Coefficient_of_determination\n",
    "\n",
    "https://scikit-learn.org/stable/modules/classes.html#regression-metrics"
   ]
  },
  {
   "cell_type": "code",
   "execution_count": 31,
   "metadata": {},
   "outputs": [
    {
     "name": "stdout",
     "output_type": "stream",
     "text": [
      "Lineární koeficienty: [-55.929259470886365, 42.01465674067706, -1.5365531924001918, -0.1397937086174281, 0.9796158024743624, 0.0, -5.888011957586796e-05, -0.00023552047830347183, -2.3552047830346226, 612012.7149728338]\n",
      "Počet vstupních sloupců: (2, 9)\n",
      "\n",
      "Koef. determinace  R2     1.0\n",
      "Adjustovaný        R2     1.0\n",
      "Max. chyba         e_max  0.0\n",
      "Průměrná chyba     |e|    0.0\n",
      "Středová chyba     |e|    0.0\n",
      "Průměrná chyba     e^2    0.0\n"
     ]
    }
   ],
   "source": [
    "n, p = vstup_pro_regresi.shape\n",
    "y_true = vystup_pro_regresi\n",
    "y_pred = regrese.predict(vstup_pro_regresi)\n",
    "R2 = metrics.r2_score(y_true, y_pred)\n",
    "adjR2 = 1 - (1 - R2)*(n - 1)/(n - p)\n",
    "# Výpis parametrů modelu\n",
    "print(\"Lineární koeficienty:\", [*regrese.coef_, regrese.intercept_])\n",
    "print(\"Počet vstupních sloupců:\", (regrese.rank_ if hasattr(regrese, \"rank_\") else None, regrese.n_features_in_))\n",
    "print()\n",
    "print(\"Koef. determinace  R2    \", round(R2, 6))\n",
    "print(\"Adjustovaný        R2    \", round(adjR2, 6))\n",
    "print(\"Max. chyba         e_max \", round(metrics.max_error(y_true, y_pred), 6))\n",
    "print(\"Průměrná chyba     |e|   \", round(metrics.mean_absolute_error(y_true, y_pred), 6))\n",
    "print(\"Středová chyba     |e|   \", round(metrics.median_absolute_error(y_true, y_pred), 6))\n",
    "print(\"Průměrná chyba     e^2   \", round(metrics.mean_squared_error(y_true, y_pred), 6))"
   ]
  },
  {
   "attachments": {},
   "cell_type": "markdown",
   "metadata": {},
   "source": [
    "### Predikce"
   ]
  },
  {
   "cell_type": "code",
   "execution_count": 32,
   "metadata": {},
   "outputs": [],
   "source": [
    "vysledek_predikce = regrese.predict(vstup_pro_predikci)"
   ]
  },
  {
   "attachments": {},
   "cell_type": "markdown",
   "metadata": {},
   "source": [
    "### Uložení predikovaných dat"
   ]
  },
  {
   "cell_type": "code",
   "execution_count": 33,
   "metadata": {},
   "outputs": [
    {
     "data": {
      "text/html": [
       "<div>\n",
       "<style scoped>\n",
       "    .dataframe tbody tr th:only-of-type {\n",
       "        vertical-align: middle;\n",
       "    }\n",
       "\n",
       "    .dataframe tbody tr th {\n",
       "        vertical-align: top;\n",
       "    }\n",
       "\n",
       "    .dataframe thead th {\n",
       "        text-align: right;\n",
       "    }\n",
       "</style>\n",
       "<table border=\"1\" class=\"dataframe\">\n",
       "  <thead>\n",
       "    <tr style=\"text-align: right;\">\n",
       "      <th></th>\n",
       "      <th>Projekt</th>\n",
       "      <th>m2</th>\n",
       "      <th>vzdálenost</th>\n",
       "      <th>počet modulů</th>\n",
       "      <th>počet vývozních dní</th>\n",
       "      <th>průměrná váha modulu</th>\n",
       "      <th>průměrná výška modulu</th>\n",
       "      <th>průměrná šířka modulu</th>\n",
       "      <th>průměrná délka modulu</th>\n",
       "      <th>cena kalkulovaná Euro</th>\n",
       "      <th>cena skutečná</th>\n",
       "    </tr>\n",
       "  </thead>\n",
       "  <tbody>\n",
       "    <tr>\n",
       "      <th>0</th>\n",
       "      <td>Dueren</td>\n",
       "      <td>1500</td>\n",
       "      <td>600</td>\n",
       "      <td>43</td>\n",
       "      <td>3</td>\n",
       "      <td>20</td>\n",
       "      <td>3</td>\n",
       "      <td>3.5</td>\n",
       "      <td>14</td>\n",
       "      <td>150000</td>\n",
       "      <td>200000.000000</td>\n",
       "    </tr>\n",
       "    <tr>\n",
       "      <th>1</th>\n",
       "      <td>Pirna II</td>\n",
       "      <td>1200</td>\n",
       "      <td>250</td>\n",
       "      <td>22</td>\n",
       "      <td>2</td>\n",
       "      <td>18</td>\n",
       "      <td>3</td>\n",
       "      <td>4.0</td>\n",
       "      <td>16</td>\n",
       "      <td>170000</td>\n",
       "      <td>155000.000000</td>\n",
       "    </tr>\n",
       "    <tr>\n",
       "      <th>2</th>\n",
       "      <td>Ronnenberg</td>\n",
       "      <td>800</td>\n",
       "      <td>550</td>\n",
       "      <td>11</td>\n",
       "      <td>1</td>\n",
       "      <td>25</td>\n",
       "      <td>3</td>\n",
       "      <td>4.0</td>\n",
       "      <td>16</td>\n",
       "      <td>170000</td>\n",
       "      <td>190000.000000</td>\n",
       "    </tr>\n",
       "    <tr>\n",
       "      <th>3</th>\n",
       "      <td>Ronnenberg</td>\n",
       "      <td>820</td>\n",
       "      <td>580</td>\n",
       "      <td>8</td>\n",
       "      <td>2</td>\n",
       "      <td>22</td>\n",
       "      <td>4</td>\n",
       "      <td>3.0</td>\n",
       "      <td>18</td>\n",
       "      <td>190000</td>\n",
       "      <td>143039.289458</td>\n",
       "    </tr>\n",
       "  </tbody>\n",
       "</table>\n",
       "</div>"
      ],
      "text/plain": [
       "      Projekt    m2  vzdálenost  počet modulů  počet vývozních dní  \\\n",
       "0      Dueren  1500         600            43                    3   \n",
       "1    Pirna II  1200         250            22                    2   \n",
       "2  Ronnenberg   800         550            11                    1   \n",
       "3  Ronnenberg   820         580             8                    2   \n",
       "\n",
       "   průměrná váha modulu  průměrná výška modulu  průměrná šířka modulu  \\\n",
       "0                    20                      3                    3.5   \n",
       "1                    18                      3                    4.0   \n",
       "2                    25                      3                    4.0   \n",
       "3                    22                      4                    3.0   \n",
       "\n",
       "   průměrná délka modulu  cena kalkulovaná Euro  cena skutečná  \n",
       "0                     14                 150000  200000.000000  \n",
       "1                     16                 170000  155000.000000  \n",
       "2                     16                 170000  190000.000000  \n",
       "3                     18                 190000  143039.289458  "
      ]
     },
     "metadata": {},
     "output_type": "display_data"
    }
   ],
   "source": [
    "DATA.loc[indexy_pro_predikci, DATA.columns[-1]] = vysledek_predikce\n",
    "display(DATA)\n",
    "DATA.to_excel(\"data_new.xlsx\")"
   ]
  },
  {
   "attachments": {},
   "cell_type": "markdown",
   "metadata": {},
   "source": [
    "### Vytvoření grafů"
   ]
  },
  {
   "cell_type": "code",
   "execution_count": 34,
   "metadata": {},
   "outputs": [
    {
     "data": {
      "application/vnd.jupyter.widget-view+json": {
       "model_id": "07cd18fa00b140dc99cfbcfe94482f43",
       "version_major": 2,
       "version_minor": 0
      },
      "text/plain": [
       "RadioButtons(description='Zobrazit čísla ve grafech', options=('Ano', 'Ne'), value='Ano')"
      ]
     },
     "metadata": {},
     "output_type": "display_data"
    }
   ],
   "source": [
    "if \"vyber_ticks\" not in globals():\n",
    "    # Vytvoří radio tlačítka pro výběr zobrazení čísel v grafech\n",
    "    # Podmínka zabrání resetování výběru při novém spuštění\n",
    "    vyber_ticks = ipywidgets.RadioButtons(\n",
    "        options=[\"Ano\", \"Ne\"],\n",
    "        description=\"Zobrazit čísla ve grafech\"\n",
    "    )\n",
    "display(vyber_ticks)"
   ]
  },
  {
   "cell_type": "code",
   "execution_count": 35,
   "metadata": {},
   "outputs": [
    {
     "data": {
      "image/png": "[encoded data removed]",
      "text/plain": [
       "<Figure size 864x648 with 9 Axes>"
      ]
     },
     "metadata": {
      "needs_background": "light"
     },
     "output_type": "display_data"
    }
   ],
   "source": [
    "# Určí počet sloupců a řádků\n",
    "N = vstup_pro_regresi.shape[1]\n",
    "nx = 3\n",
    "ny = int(N/nx + 0.5)\n",
    "# Vytvoří podgrafy\n",
    "fig, axes = plt.subplots(ncols=nx, nrows=ny, figsize=(4*nx, 3*ny))\n",
    "# Projde všechny podgrafy a naplní je daty\n",
    "for i, ax in zip(range(N), axes.flat):\n",
    "    # Seřadí data\n",
    "    serazene_data = zip(*sorted(zip(vstup_pro_regresi[:,i], vystup_pro_regresi)))\n",
    "    # Vytvoří graf ze vstupních dat\n",
    "    x = next(serazene_data)\n",
    "    y = next(serazene_data)\n",
    "    ax.plot(x, y, \"-o\", linewidth=2)\n",
    "    ax.set_title(f\"Sloupeček {i+1}\\n{data.columns[i]}\")\n",
    "    ax.set_ylim(bottom=0)\n",
    "    ax.set_xlabel(data.columns[i])\n",
    "    ax.set_ylabel(data.columns[-1])\n",
    "    ax.grid(True)\n",
    "    # Vytvoří přibližnou reprezentaci lineárního modelu\n",
    "    q = regrese.coef_[i]\n",
    "    mx = np.mean(x)\n",
    "    my = np.mean(y)\n",
    "    k = my - q*mx\n",
    "    y2 = [q*xi + k for xi in x]\n",
    "    ax.plot(x, y2, \"r--\", linewidth=1)\n",
    "    # Odstraní čísla na osách\n",
    "    if vyber_ticks.value == \"Ne\":\n",
    "        ax.tick_params(\n",
    "            axis=\"both\", which=\"both\",\n",
    "            bottom=False, top=False, left=False, right=False,\n",
    "            labelbottom=False, labeltop=False,\n",
    "            labelleft=False, labelright=False\n",
    "        )\n",
    "# Vymaže prázdné grafy\n",
    "for i in range(N, len(axes.flat)):\n",
    "    axes.flat[i].remove()\n",
    "# Zobrazí vše\n",
    "plt.tight_layout()\n",
    "plt.show()"
   ]
  }
 ],
 "metadata": {
  "kernelspec": {
   "display_name": "Python 3",
   "language": "python",
   "name": "python3"
  },
  "language_info": {
   "codemirror_mode": {
    "name": "ipython",
    "version": 3
   },
   "file_extension": ".py",
   "mimetype": "text/x-python",
   "name": "python",
   "nbconvert_exporter": "python",
   "pygments_lexer": "ipython3",
   "version": "3.10.5"
  },
  "orig_nbformat": 4,
  "vscode": {
   "interpreter": {
    "hash": "369f2c481f4da34e4445cda3fffd2e751bd1c4d706f27375911949ba6bb62e1c"
   }
  }
 },
 "nbformat": 4,
 "nbformat_minor": 2
}
